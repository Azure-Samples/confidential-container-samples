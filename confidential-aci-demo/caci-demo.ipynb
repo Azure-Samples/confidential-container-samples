{
 "cells": [
  {
   "cell_type": "markdown",
   "metadata": {},
   "source": [
    "# Confidential containers on ACI Demo"
   ]
  },
  {
   "attachments": {},
   "cell_type": "markdown",
   "metadata": {},
   "source": [
    "### Step 1 : Setup \n",
    "\n",
    "In this step we will \n",
    "- Setup the necessary libraries and customizable variables \n",
    "- Request the public key from attestation well known endpoint and create jwks object that will be used to verify the attestation tokens later in the demo. "
   ]
  },
  {
   "cell_type": "code",
   "execution_count": null,
   "metadata": {},
   "outputs": [],
   "source": [
    "\n",
    "import subprocess\n",
    "import json\n",
    "import base64\n",
    "import requests\n",
    "import jwt\n",
    "import json\n",
    "from cryptography.hazmat.backends import default_backend\n",
    "from cryptography.hazmat.primitives import serialization\n",
    "from cryptography.hazmat.primitives.asymmetric import rsa\n",
    "from cryptography import x509\n",
    "from hashlib import sha256\n",
    "\n",
    "# TODO: update to reflect your setup\n",
    "registry_name = 'replace with your docker regitry name' # e.g. docker.io/pawankhandavillims\n",
    "attestation_endpoint = 'sharedeus2.eus2.test.attest.azure.net' #this is a shared instance of MAA that you can use for testing\n",
    "#runtime data is data you want reflected in the attestation token, this is not used in a meaningful way in this demo. \n",
    "runtime_data = 'eyJrZXlzIjpbeyJlIjoiQVFBQiIsImtleV9vcHMiOlsiZW5jcnlwdCJdLCJraWQiOiJOdmhmdXEyY0NJT0FCOFhSNFhpOVByME5QXzlDZU16V1FHdFdfSEFMel93Iiwia3R5IjoiUlNBIiwibiI6InY5NjVTUm15cDh6Ykc1ZU5GdURDbW1pU2VhSHB1akcyYkNfa2VMU3V6dkRNTE8xV3lyVUp2ZWFhNWJ6TW9PMHBBNDZwWGttYnFIaXNvelZ6cGlORExDbzZkM3o0VHJHTWVGUGYyQVBJTXUtUlNyek41NnF2SFZ5SXI1Y2FXZkhXay1GTVJEd0FlZnlOWVJIa2RZWWtnbUZLNDRoaFVkdGxDQUtFdjVVUXBGWmp2aDRpSTlqVkJkR1lNeUJhS1FMaGpJNVdJaC1RRzZaYTVzU3VPQ0ZNbm11eXV2TjVEZmxwTEZ6NTk1U3MtRW9CSVktTmlsNmxDdHZjR2dSLUlialVZSEFPczVhamFtVHpnZU84a3gzVkNFOUhjeUtteVVac2l5aUY2SURScDJCcHkzTkhUakl6N3Rta3BUSHg3dEhuUnRsZkUyRlV2MEI2aV9RWWxfWkE1USJ9XX0='\n",
    "\n",
    "#extract the public key from the openid-configuration and create a JWKS object\n",
    "\n",
    "def rsa_public_key_from_pem(cert_pem):\n",
    "    cert = x509.load_pem_x509_certificate(cert_pem.encode(), default_backend())\n",
    "    return cert.public_key()\n",
    "\n",
    "response = requests.get(f\"https://{attestation_endpoint}/certs\")\n",
    "\n",
    "if response.status_code == 200:\n",
    "    cert_data = response.json()\n",
    "    keys = cert_data['keys']\n",
    "\n",
    "    # Step 2: Create a JWKS object\n",
    "    jwks = []\n",
    "\n",
    "    for key_data in keys:\n",
    "        x5c = key_data.get('x5c', [])\n",
    "        if x5c:\n",
    "            cert_pem = \"-----BEGIN CERTIFICATE-----\\n\" + x5c[0] + \"\\n-----END CERTIFICATE-----\"\n",
    "            public_key = rsa_public_key_from_pem(cert_pem)\n",
    "            jwks.append((key_data['kid'], public_key))\n",
    "\n",
    "    print(\"JWKS object created successfully.\")\n",
    "else:\n",
    "    print(\"Failed to retrieve the signing keys.\")"
   ]
  },
  {
   "attachments": {},
   "cell_type": "markdown",
   "metadata": {},
   "source": [
    "### Step 2 : Build and upload container image to registry \n",
    "\n",
    "In this step we are going to build the \"sum\" container image that exposes a rest endpoint to calculate the sum of two numbers and also exposes an endpoint to get a MAA attestation token. "
   ]
  },
  {
   "cell_type": "code",
   "execution_count": null,
   "metadata": {},
   "outputs": [],
   "source": [
    "# build and push the image to the registry\n",
    "#cacidemo is a sample repository name, you can change it to something else and update below\n",
    "subprocess.run(f'docker build -t {registry_name}/cacidemo:latest ./sum', capture_output=True)\n",
    "\n",
    "subprocess.run(f'docker push {registry_name}/cacidemo:latest', capture_output=True)"
   ]
  },
  {
   "attachments": {},
   "cell_type": "markdown",
   "metadata": {},
   "source": [
    "### Step 3 : Generate security policy for sum container \n",
    "\n",
    "We will use the confcom tooling to generate a security policy from the Azure Resource Manager template. We will further generate a SHA-256 hash of the security policy which will be used later in the demo to verify whether the container group is running the right configuration. \n",
    "\n",
    "Note : The \"ccePolicy\" attribute of the ARM template must be set to a null string \"\" for this step to work. The tooling requires user input to override the policy if already present and user input is not supported in the notebook. "
   ]
  },
  {
   "cell_type": "code",
   "execution_count": null,
   "metadata": {},
   "outputs": [],
   "source": [
    "# generate security policy\n",
    "subprocess.run('az confcom acipolicygen -a ./sum/template.json', capture_output=True, shell=True)\n",
    "\n",
    "# get the hash of the security policy\n",
    "with open(\"./sum/template.json\", \"r\") as f:\n",
    "    # open the template and grab the cce policy\n",
    "    template = json.loads(f.read())\n",
    "    security_policy = template.get('resources')[0]['properties']['confidentialComputeProperties']['ccePolicy']\n",
    "    # decode the base64 encoded policy and hash it\n",
    "    sha256_hash_sum = sha256(base64.b64decode(security_policy)).hexdigest()\n",
    "    # print the hash\n",
    "    print(\"hash of security policy: \", sha256_hash_sum)\n"
   ]
  },
  {
   "attachments": {},
   "cell_type": "markdown",
   "metadata": {},
   "source": [
    "### Step 4 \n",
    "\n",
    "Deploy the container group to ACI."
   ]
  },
  {
   "cell_type": "code",
   "execution_count": null,
   "metadata": {},
   "outputs": [],
   "source": [
    "#deploy ARM Template \n",
    "# TODO : Need to update the resource group name to your own resource group name\n",
    "subprocess.run('az deployment group create -g change_to_resource_group_name -f ./sum/template.json', capture_output=True, shell=True)"
   ]
  },
  {
   "attachments": {},
   "cell_type": "markdown",
   "metadata": {},
   "source": [
    "### Step 5 : Check for successful deployment on Azure Portal and get attestation token\n",
    "In this step we will check for the successful deployment and get the attestation token verified by MAA. We will compare the contents of the \"x-ms-sevsnpvm-hostdata\" claim and check whether it matches the policy hash from step 3"
   ]
  },
  {
   "cell_type": "code",
   "execution_count": null,
   "metadata": {},
   "outputs": [],
   "source": [
    "\n",
    "# TODO: update the public_ip_address to the public ip address of your deployed container group. You can obtain the ip address from azure portal.  \n",
    "\n",
    "public_ip_address = 'update to public ip address of your container group'\n",
    "# call the maa endpoint\n",
    "maa_response = requests.post(f'http://{public_ip_address}/attest/maa', \n",
    "                            json={\"runtime_data\": runtime_data, \"maa_endpoint\": attestation_endpoint})\n",
    "print(\"Maa Response: \", maa_response.json())\n",
    "token = json.loads(maa_response.json().get(\"result\")).get(\"token\")\n",
    "\n",
    "# verify the token\n",
    "\n",
    "header = jwt.get_unverified_header(token)\n",
    "kid = header['kid']\n",
    "\n",
    "# Find the key with a matching 'kid' in the JWKS\n",
    "key_to_use = None\n",
    "for key_kid, key in jwks:\n",
    "        if key_kid == kid:\n",
    "            key_to_use = key\n",
    "            break\n",
    "\n",
    "if key_to_use is not None:\n",
    "        try:\n",
    "            payload = jwt.decode(token, key=key_to_use, algorithms=[\"RS256\"])\n",
    "            print(\"Valid JWT : Attestation token signature verified:\", payload)\n",
    "            \n",
    "        except jwt.InvalidTokenError:\n",
    "            print(\"Invalid JWT\")\n",
    "else:\n",
    "        print(\"No matching key found in JWKS\")\n",
    "\n",
    "print(\"SEV-SNP Host Data:\\n\", payload.get(\"x-ms-sevsnpvm-hostdata\"))\n",
    "if(sha256_hash_sum == payload.get(\"x-ms-sevsnpvm-hostdata\")):\n",
    "    print(\"Security Policy Hash Matches\")\n",
    "    print(\"Host is Trusted\")\n",
    "else:\n",
    "    print(\"Security Policy Hash Does Not Match\")\n",
    "    print(\"Host is Not Trusted\")"
   ]
  },
  {
   "attachments": {},
   "cell_type": "markdown",
   "metadata": {},
   "source": [
    "### Step 6 : Error scenario : Attempt to deploy an image different than what is captured in the security policy \n",
    "We want to break the deployment by deploying a different image, in this case a container image that calculates the product of two numbers instead of the sum with the same repository and tag.\n",
    "\n",
    "After the successful execution of this step, please go to the azure portal and restart the container group that was deployed previously in Step 4. Once the container group restarts, the new image will break the policy and fail the deployment as the updated image does not reflect the policy. This is simulating an attack scenario where the container image is updated by a malicious actor. \n",
    "This is also why the `latest` tag is not recommended for Confidential ACI. \n"
   ]
  },
  {
   "cell_type": "code",
   "execution_count": null,
   "metadata": {},
   "outputs": [],
   "source": [
    "# deploy product + skr container with ARM Template from CLI\n",
    "#cacidemo is a sample repository name, you can change it to something else and update below. For this scenario the name should be the same as the one used in step2\n",
    "\n",
    "subprocess.run(f'docker build -t {registry_name}/cacidemo:latest ./product', capture_output=True)\n",
    "\n",
    "subprocess.run(f'docker push {registry_name}/cacidemo:latest', capture_output=True)"
   ]
  },
  {
   "attachments": {},
   "cell_type": "markdown",
   "metadata": {},
   "source": [
    "### Step 7 : Generate security policy for product container \n",
    "\n",
    "We will use the confcom tooling to generate a security policy from the Azure Resource Manager template.\n",
    "\n",
    "Note : The \"ccePolicy\" attribute of the ARM template must be set to a null string \"\" for this step to work. The tooling requires user input to override the policy if already present and user input is not supported in the notebook. "
   ]
  },
  {
   "cell_type": "code",
   "execution_count": null,
   "metadata": {},
   "outputs": [],
   "source": [
    "# generate security policy\n",
    "subprocess.run('az confcom acipolicygen -a ./product/template.json', capture_output=True, shell=True)\n",
    "\n",
    "# get the hash of the security policy\n",
    "with open(\"./product/template.json\", \"r\") as f:\n",
    "    # open the template and grab the cce policy\n",
    "    template = json.loads(f.read())\n",
    "    security_policy = template.get('resources')[0]['properties']['confidentialComputeProperties']['ccePolicy']\n",
    "    # decode the base64 encoded policy and hash it\n",
    "    sha256_hash_sum = sha256(base64.b64decode(security_policy)).hexdigest()\n",
    "    # print the hash\n",
    "    print(\"hash of security policy: \", sha256_hash_sum)"
   ]
  },
  {
   "attachments": {},
   "cell_type": "markdown",
   "metadata": {},
   "source": [
    "### Step 8 : Deploy updated container group with the updated security policy \n",
    "We want to fix our deployment by generating a new security policy to reflect the updated image, then uploading the ARM Template with the new policy."
   ]
  },
  {
   "cell_type": "code",
   "execution_count": null,
   "metadata": {},
   "outputs": [],
   "source": [
    "# deploy ARM Template\n",
    "# TODO : Need to update the resource group name to your own resource group name\n",
    "\n",
    "subprocess.run('az deployment group create -g akhandavilli-rg -f ./product/template.json', shell=True)"
   ]
  },
  {
   "attachments": {},
   "cell_type": "markdown",
   "metadata": {},
   "source": [
    "### Step 9 : Check deployment is successful and get attestation token \n",
    "In this step the security policy hash as part of the attestation token will not match the one generated by the tooling in step 1 as the image has changed. "
   ]
  },
  {
   "cell_type": "code",
   "execution_count": null,
   "metadata": {},
   "outputs": [],
   "source": [
    "# TODO: update the public_ip_address from the Azure portal \n",
    "\n",
    "public_ip_address = 'ip address of your deployed container group here'\n",
    "\n",
    "# call the maa endpoint\n",
    "maa_response = requests.post(f'http://{public_ip_address}/attest/maa', \n",
    "                            json={\"runtime_data\": runtime_data, \"maa_endpoint\": attestation_endpoint})\n",
    "\n",
    "token = json.loads(maa_response.json().get(\"result\")).get(\"token\")\n",
    "\n",
    "# verify the token\n",
    "\n",
    "header = jwt.get_unverified_header(token)\n",
    "kid = header['kid']\n",
    "\n",
    "# Find the key with a matching 'kid' in the JWKS\n",
    "key_to_use = None\n",
    "for key_kid, key in jwks:\n",
    "        if key_kid == kid:\n",
    "            key_to_use = key\n",
    "            break\n",
    "\n",
    "if key_to_use is not None:\n",
    "        try:\n",
    "            payload = jwt.decode(token, key=key_to_use, algorithms=[\"RS256\"])\n",
    "            print(\"JWT is valid:\", payload)\n",
    "        except jwt.InvalidTokenError:\n",
    "            print(\"Invalid JWT\")\n",
    "else:\n",
    "        print(\"No matching key found in JWKS\")\n",
    "\n",
    "print(\"SEV-SNP Host Data:\\n\", payload.get(\"x-ms-sevsnpvm-hostdata\"))\n",
    "if(sha256_hash_sum == payload.get(\"x-ms-sevsnpvm-hostdata\")):\n",
    "    print(\"Security Policy Hash Matches\")\n",
    "    print(\"Host is Trusted\")\n",
    "else:\n",
    "    print(\"Security Policy Hash Does Not Match\")\n",
    "    print(\"Host is Not Trusted\")\n"
   ]
  }
 ],
 "metadata": {
  "kernelspec": {
   "display_name": "Python 3 (ipykernel)",
   "language": "python",
   "name": "python3"
  },
  "language_info": {
   "codemirror_mode": {
    "name": "ipython",
    "version": 3
   },
   "file_extension": ".py",
   "mimetype": "text/x-python",
   "name": "python",
   "nbconvert_exporter": "python",
   "pygments_lexer": "ipython3",
   "version": "3.10.5"
  }
 },
 "nbformat": 4,
 "nbformat_minor": 2
}
