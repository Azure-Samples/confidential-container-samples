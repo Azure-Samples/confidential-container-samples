{
 "cells": [
  {
   "cell_type": "markdown",
   "metadata": {},
   "source": [
    "# Confidential containers on ACI Demo"
   ]
  },
  {
   "attachments": {},
   "cell_type": "markdown",
   "metadata": {},
   "source": [
    "### Step 1 : Setup \n",
    "\n",
    "In this step we will \n",
    "- Setup the necessary libraries and customizable variables \n",
    "- Request the public key from attestation well known endpoint and create jwks object that will be used to verify the attestation tokens later in the demo. "
   ]
  },
  {
   "cell_type": "code",
   "execution_count": 1,
   "metadata": {},
   "outputs": [
    {
     "name": "stdout",
     "output_type": "stream",
     "text": [
      "JWKS object created successfully.\n"
     ]
    }
   ],
   "source": [
    "\n",
    "import subprocess\n",
    "import json\n",
    "import base64\n",
    "import requests\n",
    "import jwt\n",
    "import json\n",
    "from cryptography.hazmat.backends import default_backend\n",
    "from cryptography.hazmat.primitives import serialization\n",
    "from cryptography.hazmat.primitives.asymmetric import rsa\n",
    "from cryptography import x509\n",
    "from hashlib import sha256\n",
    "\n",
    "# TODO: update to reflect your setup\n",
    "registry_name = 'replace with your docker regitry name' # e.g. docker.io/pawankhandavillims\n",
    "attestation_endpoint = 'sharedeus2.eus2.test.attest.azure.net' #this is a shared instance of MAA that you can use for testing\n",
    "#runtime data is data you want reflected in the attestation token, this is not used in a meaningful way in this demo. \n",
    "runtime_data = 'eyJrZXlzIjpbeyJlIjoiQVFBQiIsImtleV9vcHMiOlsiZW5jcnlwdCJdLCJraWQiOiJOdmhmdXEyY0NJT0FCOFhSNFhpOVByME5QXzlDZU16V1FHdFdfSEFMel93Iiwia3R5IjoiUlNBIiwibiI6InY5NjVTUm15cDh6Ykc1ZU5GdURDbW1pU2VhSHB1akcyYkNfa2VMU3V6dkRNTE8xV3lyVUp2ZWFhNWJ6TW9PMHBBNDZwWGttYnFIaXNvelZ6cGlORExDbzZkM3o0VHJHTWVGUGYyQVBJTXUtUlNyek41NnF2SFZ5SXI1Y2FXZkhXay1GTVJEd0FlZnlOWVJIa2RZWWtnbUZLNDRoaFVkdGxDQUtFdjVVUXBGWmp2aDRpSTlqVkJkR1lNeUJhS1FMaGpJNVdJaC1RRzZaYTVzU3VPQ0ZNbm11eXV2TjVEZmxwTEZ6NTk1U3MtRW9CSVktTmlsNmxDdHZjR2dSLUlialVZSEFPczVhamFtVHpnZU84a3gzVkNFOUhjeUtteVVac2l5aUY2SURScDJCcHkzTkhUakl6N3Rta3BUSHg3dEhuUnRsZkUyRlV2MEI2aV9RWWxfWkE1USJ9XX0='\n",
    "\n",
    "#extract the public key from the openid-configuration and create a JWKS object\n",
    "\n",
    "def rsa_public_key_from_pem(cert_pem):\n",
    "    cert = x509.load_pem_x509_certificate(cert_pem.encode(), default_backend())\n",
    "    return cert.public_key()\n",
    "\n",
    "response = requests.get(f\"https://{attestation_endpoint}/certs\")\n",
    "\n",
    "if response.status_code == 200:\n",
    "    cert_data = response.json()\n",
    "    keys = cert_data['keys']\n",
    "\n",
    "    # Step 2: Create a JWKS object\n",
    "    jwks = []\n",
    "\n",
    "    for key_data in keys:\n",
    "        x5c = key_data.get('x5c', [])\n",
    "        if x5c:\n",
    "            cert_pem = \"-----BEGIN CERTIFICATE-----\\n\" + x5c[0] + \"\\n-----END CERTIFICATE-----\"\n",
    "            public_key = rsa_public_key_from_pem(cert_pem)\n",
    "            jwks.append((key_data['kid'], public_key))\n",
    "\n",
    "    print(\"JWKS object created successfully.\")\n",
    "else:\n",
    "    print(\"Failed to retrieve the signing keys.\")"
   ]
  },
  {
   "attachments": {},
   "cell_type": "markdown",
   "metadata": {},
   "source": [
    "### Step 2 : Build and upload container image to registry \n",
    "\n",
    "In this step we are going to build the \"sum\" container image that exposes a rest endpoint to calculate the sum of two numbers and also exposes an endpoint to get a MAA attestation token. "
   ]
  },
  {
   "cell_type": "code",
   "execution_count": null,
   "metadata": {},
   "outputs": [],
   "source": [
    "# build and push the image to the registry\n",
    "#cacidemo is a sample repository name, you can change it to something else and update below\n",
    "subprocess.run(f'docker build -t {registry_name}/cacidemo:latest ./sum', capture_output=True)\n",
    "\n",
    "subprocess.run(f'docker push {registry_name}/cacidemo:latest', capture_output=True)"
   ]
  },
  {
   "attachments": {},
   "cell_type": "markdown",
   "metadata": {},
   "source": [
    "### Step 3 : Generate security policy for sum container \n",
    "\n",
    "We will use the confcom tooling to generate a security policy from the Azure Resource Manager template. We will further generate a SHA-256 hash of the security policy which will be used later in the demo to verify whether the container group is running the right configuration. \n",
    "\n",
    "Note : The \"ccePolicy\" attribute of the ARM template must be set to a null string \"\" for this step to work. The tooling requires user input to override the policy if already present and user input is not supported in the notebook. "
   ]
  },
  {
   "cell_type": "code",
   "execution_count": 2,
   "metadata": {},
   "outputs": [
    {
     "name": "stdout",
     "output_type": "stream",
     "text": [
      "hash of security policy:  670fff86714a650a49b58fadc1e90fedae0eb32dd51e34931c1e7a1839c08f6f\n"
     ]
    }
   ],
   "source": [
    "# generate security policy\n",
    "subprocess.run('az confcom acipolicygen -a ./sum/template.json', capture_output=True, shell=True)\n",
    "\n",
    "# get the hash of the security policy\n",
    "with open(\"./sum/template.json\", \"r\") as f:\n",
    "    # open the template and grab the cce policy\n",
    "    template = json.loads(f.read())\n",
    "    security_policy = template.get('resources')[0]['properties']['confidentialComputeProperties']['ccePolicy']\n",
    "    # decode the base64 encoded policy and hash it\n",
    "    sha256_hash_sum = sha256(base64.b64decode(security_policy)).hexdigest()\n",
    "    # print the hash\n",
    "    print(\"hash of security policy: \", sha256_hash_sum)\n"
   ]
  },
  {
   "attachments": {},
   "cell_type": "markdown",
   "metadata": {},
   "source": [
    "### Step 4 \n",
    "\n",
    "Deploy the container group to ACI."
   ]
  },
  {
   "cell_type": "code",
   "execution_count": 3,
   "metadata": {},
   "outputs": [
    {
     "data": {
      "text/plain": [
       "CompletedProcess(args='az deployment group create -g akhandavilli-rg -f ./sum/template.json', returncode=0, stdout=b'{\\r\\n  \"id\": \"/subscriptions/eec8e14e-b47d-40d9-8bd9-23ff5c381b40/resourceGroups/akhandavilli-rg/providers/Microsoft.Resources/deployments/template\",\\r\\n  \"location\": null,\\r\\n  \"name\": \"template\",\\r\\n  \"properties\": {\\r\\n    \"correlationId\": \"d497a187-030e-4d4d-a9c0-9d117b949883\",\\r\\n    \"debugSetting\": null,\\r\\n    \"dependencies\": [],\\r\\n    \"duration\": \"PT1M11.8548777S\",\\r\\n    \"error\": null,\\r\\n    \"mode\": \"Incremental\",\\r\\n    \"onErrorDeployment\": null,\\r\\n    \"outputResources\": [\\r\\n      {\\r\\n        \"id\": \"/subscriptions/eec8e14e-b47d-40d9-8bd9-23ff5c381b40/resourceGroups/akhandavilli-rg/providers/Microsoft.ContainerInstance/containerGroups/aci-demo\",\\r\\n        \"resourceGroup\": \"akhandavilli-rg\"\\r\\n      }\\r\\n    ],\\r\\n    \"outputs\": {\\r\\n      \"containerIPv4Address\": {\\r\\n        \"type\": \"String\",\\r\\n        \"value\": \"20.93.85.149\"\\r\\n      }\\r\\n    },\\r\\n    \"parameters\": {\\r\\n      \"containerGroupName\": {\\r\\n        \"type\": \"String\",\\r\\n        \"value\": \"aci-demo\"\\r\\n      }\\r\\n    },\\r\\n    \"parametersLink\": null,\\r\\n    \"providers\": [\\r\\n      {\\r\\n        \"id\": null,\\r\\n        \"namespace\": \"Microsoft.ContainerInstance\",\\r\\n        \"providerAuthorizationConsentState\": null,\\r\\n        \"registrationPolicy\": null,\\r\\n        \"registrationState\": null,\\r\\n        \"resourceTypes\": [\\r\\n          {\\r\\n            \"aliases\": null,\\r\\n            \"apiProfiles\": null,\\r\\n            \"apiVersions\": null,\\r\\n            \"capabilities\": null,\\r\\n            \"defaultApiVersion\": null,\\r\\n            \"locationMappings\": null,\\r\\n            \"locations\": [\\r\\n              \"northeurope\"\\r\\n            ],\\r\\n            \"properties\": null,\\r\\n            \"resourceType\": \"containerGroups\",\\r\\n            \"zoneMappings\": null\\r\\n          }\\r\\n        ]\\r\\n      }\\r\\n    ],\\r\\n    \"provisioningState\": \"Succeeded\",\\r\\n    \"templateHash\": \"17864646035334796127\",\\r\\n    \"templateLink\": null,\\r\\n    \"timestamp\": \"2023-03-31T02:49:08.343969+00:00\",\\r\\n    \"validatedResources\": null\\r\\n  },\\r\\n  \"resourceGroup\": \"akhandavilli-rg\",\\r\\n  \"tags\": null,\\r\\n  \"type\": \"Microsoft.Resources/deployments\"\\r\\n}\\r\\n', stderr=b'')"
      ]
     },
     "execution_count": 3,
     "metadata": {},
     "output_type": "execute_result"
    }
   ],
   "source": [
    "#deploy ARM Template \n",
    "# TODO : Need to update the resource group name to your own resource group name\n",
    "subprocess.run('az deployment group create -g change_to_resource_group_name -f ./sum/template.json', capture_output=True, shell=True)"
   ]
  },
  {
   "attachments": {},
   "cell_type": "markdown",
   "metadata": {},
   "source": [
    "### Step 5 : Check for successful deployment on Azure Portal and get attestation token\n",
    "In this step we will check for the successful deployment and get the attestation token verified by MAA. We will compare the contents of the \"x-ms-sevsnpvm-hostdata\" claim and check whether it matches the policy hash from step 3"
   ]
  },
  {
   "cell_type": "code",
   "execution_count": 6,
   "metadata": {},
   "outputs": [
    {
     "name": "stdout",
     "output_type": "stream",
     "text": [
      "Maa Response:  {'result': '{\"token\":\"eyJhbGciOiJSUzI1NiIsImprdSI6Imh0dHBzOi8vc2hhcmVkZXVzMi5ldXMyLnRlc3QuYXR0ZXN0LmF6dXJlLm5ldC9jZXJ0cyIsImtpZCI6IjNiZENZSmFiemZoSVNGdGIzSjh5dUVFU1p3dWZWN2hoaDA4TjNaZmxBdUU9IiwidHlwIjoiSldUIn0.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.XIdyWIGWPEbfiv6Ze68eCQQhXToH4u3kZo5NlUcXzhCI3gRcb2moztPIRC3LmgdxOV12EvxemGBui6xzpBolML3bhXhSD0555tAArQ6zHRaCxQsc2seoq9Oc2RxThe6Jg2sAUnlxW-Mejg47kcbfvLOTtuCoIezm3OCvV0VDdFeuvhAS0PX-ZUMcXXWQAxFptM6c72lUFSq9LtPePwQoA-lyTpBCfB6OLQylSMZVnzAkMChAUm2J1qKxpM73LVfX0BB57ohyIBjh3ZLb-xf6_ag14kWTtKRsvoRdt8H2Eqbtv9wPu6hY2G1qzynVl30RFAZkrJHFkFb064_ThbWevg\"}'}\n",
      "Valid JWT : Attestation token signature verified: {'exp': 1680259997, 'iat': 1680231197, 'iss': 'https://sharedeus2.eus2.test.attest.azure.net', 'jti': 'd288fef5880b1501ea70be1b9366840fd56f74e666a23224d6de113133cbd8d5', 'nbf': 1680231197, 'nonce': '3413764049005270139', 'x-ms-attestation-type': 'sevsnpvm', 'x-ms-compliance-status': 'azure-compliant-uvm', 'x-ms-policy-hash': '9NY0VnTQ-IiBriBplVUpFbczcDaEBUwsiFYAzHu_gco', 'x-ms-runtime': {'keys': [{'e': 'AQAB', 'key_ops': ['encrypt'], 'kid': 'Nvhfuq2cCIOAB8XR4Xi9Pr0NP_9CeMzWQGtW_HALz_w', 'kty': 'RSA', 'n': 'v965SRmyp8zbG5eNFuDCmmiSeaHpujG2bC_keLSuzvDMLO1WyrUJveaa5bzMoO0pA46pXkmbqHisozVzpiNDLCo6d3z4TrGMeFPf2APIMu-RSrzN56qvHVyIr5caWfHWk-FMRDwAefyNYRHkdYYkgmFK44hhUdtlCAKEv5UQpFZjvh4iI9jVBdGYMyBaKQLhjI5WIh-QG6Za5sSuOCFMnmuyuvN5DflpLFz595Ss-EoBIY-Nil6lCtvcGgR-IbjUYHAOs5ajamTzgeO8kx3VCE9HcyKmyUZsiyiF6IDRp2Bpy3NHTjIz7tmkpTHx7tHnRtlfE2FUv0B6i_QYl_ZA5Q'}]}, 'x-ms-sevsnpvm-authorkeydigest': '000000000000000000000000000000000000000000000000000000000000000000000000000000000000000000000000', 'x-ms-sevsnpvm-bootloader-svn': 3, 'x-ms-sevsnpvm-familyId': '01000000000000000000000000000000', 'x-ms-sevsnpvm-guestsvn': 2, 'x-ms-sevsnpvm-hostdata': '670fff86714a650a49b58fadc1e90fedae0eb32dd51e34931c1e7a1839c08f6f', 'x-ms-sevsnpvm-idkeydigest': 'cf7e12541981e6cafd150b5236785f4364850e2c4963825f9ab1d8091040aea0964bb9a8835f966bdc174d9ad53b4582', 'x-ms-sevsnpvm-imageId': '02000000000000000000000000000000', 'x-ms-sevsnpvm-is-debuggable': False, 'x-ms-sevsnpvm-launchmeasurement': 'a1e1a4b64e8de5c664ceee069010441f74cf039065b5b847e82b9d1a7629aaf33d5591c6b18cee48a4dde481aa88d0fb', 'x-ms-sevsnpvm-microcode-svn': 115, 'x-ms-sevsnpvm-migration-allowed': False, 'x-ms-sevsnpvm-reportdata': '7ab000a323b3c873f5b81bbe584e7c1a26bcf40dc27e00f8e0d144b1ed2d14f10000000000000000000000000000000000000000000000000000000000000000', 'x-ms-sevsnpvm-reportid': 'a489c8578fb2f54d895fc8d000a85b2ff4855c015e4fb7216495c4dba4598345', 'x-ms-sevsnpvm-smt-allowed': True, 'x-ms-sevsnpvm-snpfw-svn': 8, 'x-ms-sevsnpvm-tee-svn': 0, 'x-ms-sevsnpvm-uvm-endorsement': {'x-ms-sevsnpvm-guestsvn': '100', 'x-ms-sevsnpvm-launchmeasurement': 'a1e1a4b64e8de5c664ceee069010441f74cf039065b5b847e82b9d1a7629aaf33d5591c6b18cee48a4dde481aa88d0fb'}, 'x-ms-sevsnpvm-vmpl': 0, 'x-ms-ver': '1.0'}\n",
      "SEV-SNP Host Data:\n",
      " 670fff86714a650a49b58fadc1e90fedae0eb32dd51e34931c1e7a1839c08f6f\n",
      "Security Policy Hash Matches\n",
      "Host is Trusted\n"
     ]
    }
   ],
   "source": [
    "\n",
    "# TODO: update the public_ip_address to the public ip address of your deployed container group. You can obtain the ip address from azure portal.  \n",
    "\n",
    "public_ip_address = 'update to public ip address of your container group'\n",
    "# call the maa endpoint\n",
    "maa_response = requests.post(f'http://{public_ip_address}/attest/maa', \n",
    "                            json={\"runtime_data\": runtime_data, \"maa_endpoint\": attestation_endpoint})\n",
    "print(\"Maa Response: \", maa_response.json())\n",
    "token = json.loads(maa_response.json().get(\"result\")).get(\"token\")\n",
    "\n",
    "# verify the token\n",
    "\n",
    "header = jwt.get_unverified_header(token)\n",
    "kid = header['kid']\n",
    "\n",
    "# Find the key with a matching 'kid' in the JWKS\n",
    "key_to_use = None\n",
    "for key_kid, key in jwks:\n",
    "        if key_kid == kid:\n",
    "            key_to_use = key\n",
    "            break\n",
    "\n",
    "if key_to_use is not None:\n",
    "        try:\n",
    "            payload = jwt.decode(token, key=key_to_use, algorithms=[\"RS256\"])\n",
    "            print(\"Valid JWT : Attestation token signature verified:\", payload)\n",
    "            \n",
    "        except jwt.InvalidTokenError:\n",
    "            print(\"Invalid JWT\")\n",
    "else:\n",
    "        print(\"No matching key found in JWKS\")\n",
    "\n",
    "print(\"SEV-SNP Host Data:\\n\", payload.get(\"x-ms-sevsnpvm-hostdata\"))\n",
    "if(sha256_hash_sum == payload.get(\"x-ms-sevsnpvm-hostdata\")):\n",
    "    print(\"Security Policy Hash Matches\")\n",
    "    print(\"Host is Trusted\")\n",
    "else:\n",
    "    print(\"Security Policy Hash Does Not Match\")\n",
    "    print(\"Host is Not Trusted\")"
   ]
  },
  {
   "attachments": {},
   "cell_type": "markdown",
   "metadata": {},
   "source": [
    "### Step 6 : Error scenario : Attempt to deploy an image different than what is captured in the security policy \n",
    "We want to break the deployment by deploying a different image, in this case a container image that calculates the product of two numbers instead of the sum with the same repository and tag.\n",
    "\n",
    "After the successful execution of this step, please go to the azure portal and restart the container group that was deployed previously in Step 4. Once the container group restarts, the new image will break the policy and fail the deployment as the updated image does not reflect the policy. This is simulating an attack scenario where the container image is updated by a malicious actor. \n",
    "This is also why the `latest` tag is not recommended for Confidential ACI. \n"
   ]
  },
  {
   "cell_type": "code",
   "execution_count": null,
   "metadata": {},
   "outputs": [],
   "source": [
    "# deploy product + skr container with ARM Template from CLI\n",
    "#cacidemo is a sample repository name, you can change it to something else and update below. For this scenario the name should be the same as the one used in step2\n",
    "\n",
    "subprocess.run(f'docker build -t {registry_name}/cacidemo:latest ./product', capture_output=True)\n",
    "\n",
    "subprocess.run(f'docker push {registry_name}/cacidemo:latest', capture_output=True)"
   ]
  },
  {
   "attachments": {},
   "cell_type": "markdown",
   "metadata": {},
   "source": [
    "### Step 7 : Generate security policy for product container \n",
    "\n",
    "We will use the confcom tooling to generate a security policy from the Azure Resource Manager template.\n",
    "\n",
    "Note : The \"ccePolicy\" attribute of the ARM template must be set to a null string \"\" for this step to work. The tooling requires user input to override the policy if already present and user input is not supported in the notebook. "
   ]
  },
  {
   "cell_type": "code",
   "execution_count": null,
   "metadata": {},
   "outputs": [],
   "source": [
    "# generate security policy\n",
    "subprocess.run('az confcom acipolicygen -a ./product/template.json', capture_output=True, shell=True)\n",
    "\n",
    "# get the hash of the security policy\n",
    "with open(\"./product/template.json\", \"r\") as f:\n",
    "    # open the template and grab the cce policy\n",
    "    template = json.loads(f.read())\n",
    "    security_policy = template.get('resources')[0]['properties']['confidentialComputeProperties']['ccePolicy']\n",
    "    # decode the base64 encoded policy and hash it\n",
    "    sha256_hash_sum = sha256(base64.b64decode(security_policy)).hexdigest()\n",
    "    # print the hash\n",
    "    print(\"hash of security policy: \", sha256_hash_sum)"
   ]
  },
  {
   "attachments": {},
   "cell_type": "markdown",
   "metadata": {},
   "source": [
    "### Step 8 : Deploy updated container group with the updated security policy \n",
    "We want to fix our deployment by generating a new security policy to reflect the updated image, then uploading the ARM Template with the new policy."
   ]
  },
  {
   "cell_type": "code",
   "execution_count": null,
   "metadata": {},
   "outputs": [],
   "source": [
    "# deploy ARM Template\n",
    "# TODO : Need to update the resource group name to your own resource group name\n",
    "\n",
    "subprocess.run('az deployment group create -g akhandavilli-rg -f ./product/template.json', shell=True)"
   ]
  },
  {
   "attachments": {},
   "cell_type": "markdown",
   "metadata": {},
   "source": [
    "### Step 9 : Check deployment is successful and get attestation token \n",
    "In this step the security policy hash as part of the attestation token will not match the one generated by the tooling in step 1 as the image has changed. "
   ]
  },
  {
   "cell_type": "code",
   "execution_count": null,
   "metadata": {},
   "outputs": [],
   "source": [
    "# TODO: update the public_ip_address from the Azure portal \n",
    "\n",
    "public_ip_address = 'ip address of your deployed container group here'\n",
    "\n",
    "# call the maa endpoint\n",
    "maa_response = requests.post(f'http://{public_ip_address}/attest/maa', \n",
    "                            json={\"runtime_data\": runtime_data, \"maa_endpoint\": attestation_endpoint})\n",
    "\n",
    "token = json.loads(maa_response.json().get(\"result\")).get(\"token\")\n",
    "\n",
    "# verify the token\n",
    "\n",
    "header = jwt.get_unverified_header(token)\n",
    "kid = header['kid']\n",
    "\n",
    "# Find the key with a matching 'kid' in the JWKS\n",
    "key_to_use = None\n",
    "for key_kid, key in jwks:\n",
    "        if key_kid == kid:\n",
    "            key_to_use = key\n",
    "            break\n",
    "\n",
    "if key_to_use is not None:\n",
    "        try:\n",
    "            payload = jwt.decode(token, key=key_to_use, algorithms=[\"RS256\"])\n",
    "            print(\"JWT is valid:\", payload)\n",
    "        except jwt.InvalidTokenError:\n",
    "            print(\"Invalid JWT\")\n",
    "else:\n",
    "        print(\"No matching key found in JWKS\")\n",
    "\n",
    "print(\"SEV-SNP Host Data:\\n\", payload.get(\"x-ms-sevsnpvm-hostdata\"))\n",
    "if(sha256_hash_sum == payload.get(\"x-ms-sevsnpvm-hostdata\")):\n",
    "    print(\"Security Policy Hash Matches\")\n",
    "    print(\"Host is Trusted\")\n",
    "else:\n",
    "    print(\"Security Policy Hash Does Not Match\")\n",
    "    print(\"Host is Not Trusted\")\n"
   ]
  }
 ],
 "metadata": {
  "kernelspec": {
   "display_name": "Python 3 (ipykernel)",
   "language": "python",
   "name": "python3"
  },
  "language_info": {
   "codemirror_mode": {
    "name": "ipython",
    "version": 3
   },
   "file_extension": ".py",
   "mimetype": "text/x-python",
   "name": "python",
   "nbconvert_exporter": "python",
   "pygments_lexer": "ipython3",
   "version": "3.10.5"
  }
 },
 "nbformat": 4,
 "nbformat_minor": 2
}
