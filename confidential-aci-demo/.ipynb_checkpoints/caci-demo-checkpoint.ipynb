{
 "cells": [
  {
   "cell_type": "markdown",
   "metadata": {},
   "source": [
    "# Confidential containers on ACI Demo"
   ]
  },
  {
   "cell_type": "markdown",
   "metadata": {},
   "source": [
    "### Step 1 : Build and deploy container image \n",
    "In this step we are going to build and push to the container registry a container image that takes in two numbers and calculates the sum of the two numbers. We will then deploy the \"sum\" container image to ACI along with a helper sidecar container that can help get us a Microsoft Azure Attestation ( MAA ) attestation token. "
   ]
  },
  {
   "cell_type": "code",
   "execution_count": null,
   "metadata": {},
   "outputs": [],
   "source": [
    "import subprocess\n",
    "import json\n",
    "import base64\n",
    "from hashlib import sha256\n",
    "# TODO: update this to demo registry name\n",
    "registry_name = 'docker.io/pawankhandavillims'\n",
    "\n",
    "# deploy sum + skr container with ARM Template from CLI\n",
    "subprocess.run(f'docker build -t {registry_name}/cacidemo:latest ./sum', capture_output=True)\n",
    "\n",
    "subprocess.run(f'docker push {registry_name}/cacidemo:latest', capture_output=True)\n",
    "\n",
    "# generate security policy\n",
    "subprocess.run('az confcom acipolicygen -a ./sum/template.json', capture_output=True, shell=True)\n",
    "\n",
    "# # deploy ARM Template\n",
    "subprocess.run('az deployment group create -g akhandavilli-rg -f ./sum/template.json', capture_output=True, shell=True)\n",
    "\n",
    "# get the hash of the security policy\n",
    "with open(\"./sum/template.json\", \"r\") as f:\n",
    "    # open the template and grab the cce policy\n",
    "    template = json.loads(f.read())\n",
    "    security_policy = template.get('resources')[0]['properties']['confidentialComputeProperties']['ccePolicy']\n",
    "    # decode the base64 encoded policy and hash it\n",
    "    sha256_hash_sum = sha256(base64.b64decode(security_policy)).hexdigest()\n",
    "    # print the hash\n",
    "    print(\"hash of security policy: \", sha256_hash_sum)\n"
   ]
  },
  {
   "cell_type": "markdown",
   "metadata": {},
   "source": [
    "### Step 2 : Check for successful deployment on Azure Portal and get attestation token\n",
    "In this step we will check for the successful deployment and get the attestation token verified by MAA. We will compare the contents of the \"x-ms-sevsnpvm-hostdata\" claim and check whether it matches the policy hash from step 1"
   ]
  },
  {
   "cell_type": "code",
   "execution_count": null,
   "metadata": {},
   "outputs": [],
   "source": [
    "import requests\n",
    "import jwt\n",
    "import json\n",
    "# TODO: update the public_ip_address\n",
    "\n",
    "public_ip_address = '4.157.61.66'\n",
    "runtime_data = 'eyJrZXlzIjpbeyJlIjoiQVFBQiIsImtleV9vcHMiOlsiZW5jcnlwdCJdLCJraWQiOiJOdmhmdXEyY0NJT0FCOFhSNFhpOVByME5QXzlDZU16V1FHdFdfSEFMel93Iiwia3R5IjoiUlNBIiwibiI6InY5NjVTUm15cDh6Ykc1ZU5GdURDbW1pU2VhSHB1akcyYkNfa2VMU3V6dkRNTE8xV3lyVUp2ZWFhNWJ6TW9PMHBBNDZwWGttYnFIaXNvelZ6cGlORExDbzZkM3o0VHJHTWVGUGYyQVBJTXUtUlNyek41NnF2SFZ5SXI1Y2FXZkhXay1GTVJEd0FlZnlOWVJIa2RZWWtnbUZLNDRoaFVkdGxDQUtFdjVVUXBGWmp2aDRpSTlqVkJkR1lNeUJhS1FMaGpJNVdJaC1RRzZaYTVzU3VPQ0ZNbm11eXV2TjVEZmxwTEZ6NTk1U3MtRW9CSVktTmlsNmxDdHZjR2dSLUlialVZSEFPczVhamFtVHpnZU84a3gzVkNFOUhjeUtteVVac2l5aUY2SURScDJCcHkzTkhUakl6N3Rta3BUSHg3dEhuUnRsZkUyRlV2MEI2aV9RWWxfWkE1USJ9XX0='\n",
    "maa_endpoint = 'sharedeus2.eus2.test.attest.azure.net'\n",
    "\n",
    "# call the maa endpoint\n",
    "maa_response = requests.post(f'http://{public_ip_address}/attest/maa', \n",
    "                            json={\"runtime_data\": runtime_data, \"maa_endpoint\": maa_endpoint})\n",
    "\n",
    "token = json.loads(maa_response.json().get(\"result\")).get(\"token\")\n",
    "decoded_token = jwt.decode(token, options={\"verify_signature\": False}, algorithms=['RS256'])\n",
    "print(\"SEV-SNP Host Data:\\n\", decoded_token.get(\"x-ms-sevsnpvm-hostdata\"))\n",
    "if(sha256_hash_sum == decoded_token.get(\"x-ms-sevsnpvm-hostdata\")):\n",
    "    print(\"Security Policy Hash Matches\")\n",
    "    print(\"Host is Trusted\")\n",
    "else:\n",
    "    print(\"Security Policy Hash Does Not Match\")\n",
    "    print(\"Host is Not Trusted\")\n",
    "\n"
   ]
  },
  {
   "cell_type": "markdown",
   "metadata": {},
   "source": [
    "### Step 3 : Error scenario : Attempt to deploy an image different than what is captured in the security policy \n",
    "We want to break the deployment by deploying a different image, in this case a container image that calculates the product of two numbers instead of the sum with the same repository and tag.\n",
    "\n",
    "Once the container group restarts, the new image will break the policy.\n",
    "This is why the `latest` tag is not recommended for Confidential ACI\n"
   ]
  },
  {
   "cell_type": "code",
   "execution_count": null,
   "metadata": {},
   "outputs": [],
   "source": [
    "import subprocess\n",
    "import json\n",
    "import base64\n",
    "from hashlib import sha256\n",
    "\n",
    "# deploy multiple + skr container with ARM Template from CLI\n",
    "subprocess.run('docker build -t pawankhandavillims/cacidemo:latest ./product')\n",
    "subprocess.run('docker push pawankhandavillims/cacidemo:latest')"
   ]
  },
  {
   "cell_type": "markdown",
   "metadata": {},
   "source": [
    "### Step 5 : Deploy updated image with the updated security policy \n",
    "We want to fix our deployment by generating a new security policy to reflect the updated image, then uploading the ARM Template with the new policy."
   ]
  },
  {
   "cell_type": "code",
   "execution_count": null,
   "metadata": {},
   "outputs": [],
   "source": [
    "# generate new security policy and have it injected into the ARM template\n",
    "subprocess.run('az confcom acipolicygen -a ./product/template.json', shell=True)\n",
    "# deploy product + skr container with ARM Template from CLI\n",
    "subprocess.run('az deployment group create -g aci-demo -f ./product/template.json', shell=True)\n",
    "\n",
    "# get the hash of the security policy\n",
    "with open(\"./product/template.json\", \"r\") as f:\n",
    "    # open the template and grab the cce policy\n",
    "    template = json.loads(f.read())\n",
    "    security_policy = template.get('resources')[0]['properties']['confidentialComputeProperties']['ccePolicy']\n",
    "    # decode the base64 encoded policy and hash it\n",
    "    sha256_hash = sha256(base64.b64decode(security_policy)).hexdigest()\n",
    "    # print the hash\n",
    "    print(\"hash of security policy: \", sha256_hash)\n"
   ]
  },
  {
   "cell_type": "markdown",
   "metadata": {},
   "source": [
    "### Step 6 : Check deployment is successful and get attestation token \n",
    "In this step the security policy hash as part of the attestation token will not match the one generated by the tooling in step 1 as the image has changed. "
   ]
  },
  {
   "cell_type": "code",
   "execution_count": null,
   "metadata": {},
   "outputs": [],
   "source": [
    "# Call the attestation endpoint and pretty print the parsed jwt token from MAA\n",
    "import requests\n",
    "import jwt\n",
    "import json\n",
    "# TODO: update the public_ip_address\n",
    "\n",
    "public_ip_address = '20.75.212.210'\n",
    "runtime_data = 'eyJrZXlzIjpbeyJlIjoiQVFBQiIsImtleV9vcHMiOlsiZW5jcnlwdCJdLCJraWQiOiJOdmhmdXEyY0NJT0FCOFhSNFhpOVByME5QXzlDZU16V1FHdFdfSEFMel93Iiwia3R5IjoiUlNBIiwibiI6InY5NjVTUm15cDh6Ykc1ZU5GdURDbW1pU2VhSHB1akcyYkNfa2VMU3V6dkRNTE8xV3lyVUp2ZWFhNWJ6TW9PMHBBNDZwWGttYnFIaXNvelZ6cGlORExDbzZkM3o0VHJHTWVGUGYyQVBJTXUtUlNyek41NnF2SFZ5SXI1Y2FXZkhXay1GTVJEd0FlZnlOWVJIa2RZWWtnbUZLNDRoaFVkdGxDQUtFdjVVUXBGWmp2aDRpSTlqVkJkR1lNeUJhS1FMaGpJNVdJaC1RRzZaYTVzU3VPQ0ZNbm11eXV2TjVEZmxwTEZ6NTk1U3MtRW9CSVktTmlsNmxDdHZjR2dSLUlialVZSEFPczVhamFtVHpnZU84a3gzVkNFOUhjeUtteVVac2l5aUY2SURScDJCcHkzTkhUakl6N3Rta3BUSHg3dEhuUnRsZkUyRlV2MEI2aV9RWWxfWkE1USJ9XX0='\n",
    "maa_endpoint = 'sharedeus2.eus2.test.attest.azure.net'\n",
    "\n",
    "# call the maa endpoint\n",
    "maa_response = requests.post(f'http://{public_ip_address}/attest/maa', \n",
    "                            json={\"runtime_data\": runtime_data, \"maa_endpoint\": maa_endpoint})\n",
    "\n",
    "token = json.loads(maa_response.json().get(\"result\")).get(\"token\")\n",
    "decoded_token = jwt.decode(token, options={\"verify_signature\": False}, algorithms=['RS256'])\n",
    "print(\"SEV-SNP Host Data:\\n\", decoded_token.get(\"x-ms-sevsnpvm-hostdata\"))\n",
    "if(sha256_hash_sum == decoded_token.get(\"x-ms-sevsnpvm-hostdata\")):\n",
    "    print(\"Security Policy Hash Matches\")\n",
    "    print(\"Host is Trusted\")\n",
    "else:\n",
    "    print(\"Security Policy Hash Does Not Match\")\n",
    "    print(\"Host is Untrusted\")"
   ]
  }
 ],
 "metadata": {
  "kernelspec": {
   "display_name": "Python 3 (ipykernel)",
   "language": "python",
   "name": "python3"
  },
  "language_info": {
   "codemirror_mode": {
    "name": "ipython",
    "version": 3
   },
   "file_extension": ".py",
   "mimetype": "text/x-python",
   "name": "python",
   "nbconvert_exporter": "python",
   "pygments_lexer": "ipython3",
   "version": "3.10.5"
  }
 },
 "nbformat": 4,
 "nbformat_minor": 2
}
